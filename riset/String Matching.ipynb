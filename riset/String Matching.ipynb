{
 "cells": [
  {
   "cell_type": "code",
   "execution_count": 49,
   "metadata": {},
   "outputs": [],
   "source": [
    "import re, json"
   ]
  },
  {
   "cell_type": "code",
   "execution_count": 296,
   "metadata": {},
   "outputs": [],
   "source": [
    "import json\n",
    "\n",
    "def simpan(data,nama):\n",
    "    json.dump(data,open(nama+'.json','w'))\n",
    "def buka(nama):\n",
    "    data = json.load(open(nama+'.json','r'))\n",
    "    return data\n",
    "\n",
    "stopWord = buka('../app/static/stopwords-id')\n",
    "sinonim = buka('../app/static/sinonim')\n",
    "soal = buka('../app/static/soal')\n",
    "jawaban = buka('../app/static/jawaban')\n",
    "\n",
    "soal = soal[len(soal)//2:]\n",
    "jawaban = jawaban[len(jawaban)//2:]\n",
    "\n",
    "#Menghitung border function dari string s\n",
    "def computeFail(s):\n",
    "    fail = [0 for i in range(len(s))]\n",
    "    fail[0] = 0\n",
    "    m = len(s)\n",
    "    i, j = 1, 0\n",
    "    while(i < m):\n",
    "        if(s[j] == s[i]):\n",
    "            fail[i] = j+1\n",
    "            i += 1\n",
    "            j += 1\n",
    "        elif (j > 0):\n",
    "            j = fail[j-1]\n",
    "        else:\n",
    "            fail[i] = 0\n",
    "            i += 1\n",
    "    return fail\n",
    "\n",
    "#Mencocokan pattern di text (apakah pattern ada di text)\n",
    "#Merupakkan exact match\n",
    "#Algoritma sesuai slide matkul Stima 2019 dengan modifikasi\n",
    "#agar bisa mengembalikan panjang kata terpanjang yang mirip\n",
    "#O(m+n)\n",
    "#Return : [index, maxLen kata yang mirip]\n",
    "def kmpITB(text, pattern):\n",
    "    #Hitung border function\n",
    "    n = len(text)\n",
    "    m = len(pattern)\n",
    "    fail = computeFail(pattern)\n",
    "    i, j = 0, 0\n",
    "    maxLen = 0\n",
    "    while(i < n):\n",
    "        if(pattern[j] == text[i]):\n",
    "            if(j == m-1):\n",
    "                return [i-m+1, j+1] #Ketemu\n",
    "            i += 1\n",
    "            j += 1\n",
    "        else:\n",
    "            if(maxLen < j):\n",
    "                maxLen = j\n",
    "            if (j > 0):\n",
    "                j = fail[j-1]\n",
    "            else:\n",
    "                i += 1\n",
    "    return [-1, maxLen] #Tidak ketemu\n",
    "\n",
    "#Menghitung last occurence untuk boyer-moore dari string s\n",
    "def computeLast(s):\n",
    "    last = [-1 for i in range(128)]\n",
    "    for i in range(len(s)):\n",
    "        last[ord(s[i])] = i\n",
    "    return last\n",
    "\n",
    "#Mencocokan pattern di text\n",
    "#Merupakan exact match\n",
    "#Algoritma sesuai slide matkul Stima 2019 dengan modifikasi\n",
    "#agar bisa mengembalikan panjang kata terpanjang yang mirip\n",
    "#O(nm + A), A = banyak alphabet\n",
    "#Return : [index, maxLen kata yang mirip]\n",
    "def bmITB(text, pattern):\n",
    "    last = computeLast(pattern)\n",
    "    n, m = len(text), len(pattern)\n",
    "    i = m-1\n",
    "    if(i > n-1):\n",
    "        return [-1,0]\n",
    "    j = m-1\n",
    "    maxLen = 0\n",
    "    while(i <= n-1):\n",
    "        if(pattern[j] == text[i]):\n",
    "            if(j == 0):\n",
    "                return [i, n-j]\n",
    "            else:\n",
    "                i -= 1\n",
    "                j -= 1\n",
    "        else:\n",
    "            if(maxLen < n-j):\n",
    "                maxLen = n-j\n",
    "            lo = last[ord(text[i])]\n",
    "            i = i + m - min(j, 1+lo)\n",
    "            j = m-1\n",
    "    return [-1, n-maxLen]\n",
    "\n",
    "def hapusStopWord(s):\n",
    "    tempKata = s.split(' ')\n",
    "    mark = [False for i in tempKata]\n",
    "    for sw in stopWord:\n",
    "        while(sw in tempKata):\n",
    "            tempKata.remove(sw)\n",
    "    return ' '.join(tempKata)\n",
    "\n",
    "def hitungCocok(text, pattern):\n",
    "    text = text.lower()\n",
    "    pattern = pattern.lower()\n",
    "    if(kmpITB(pattern, text)[0] > -1):\n",
    "        return 1\n",
    "    else:\n",
    "        totalCocok = 0\n",
    "        #Cocokkan per kata (Boleh sesuai spek)\n",
    "        for tS in text.split(' '):\n",
    "            tS = tS.strip()\n",
    "            if(tS != ''):\n",
    "                maxCocok = 0\n",
    "                for p in pattern.split(' '):\n",
    "                    for s in getSinonim(p):\n",
    "                        #print(\"Match \", s, \", \", t)\n",
    "                        hasKMP = kmpITB(s, tS)\n",
    "                        hasBM = bmITB(s, tS)\n",
    "                        has = hasKMP\n",
    "#                         if(hasKMP[1] > hasBM[1]):\n",
    "#                             has = hasKMP\n",
    "                        if(maxCocok < has[1]):\n",
    "                            maxCocok = has[1]\n",
    "                        if(has[0] > -1):\n",
    "                            break\n",
    "                if(maxCocok != 0):\n",
    "                    totalCocok += 1\n",
    "                totalCocok += maxCocok\n",
    "        return min(totalCocok/len(text), 1)\n",
    "    \n",
    "def getSinonim(kata):\n",
    "    hasil = {kata}\n",
    "    if(kata in sinonim):\n",
    "        if('sinonim' in sinonim[kata]):\n",
    "            hasil = hasil.union(set(sinonim[kata]['sinonim']))\n",
    "#     for s in sinonim:\n",
    "#         if(kata in sinonim[s]['sinonim']):\n",
    "#             hasil = hasil.union(set([s]))\n",
    "#     for h in hasil:\n",
    "#         if(kmpITB(kata, h) == -1 and kmpITB(h, kata) == -1):\n",
    "#             hasil.union(getSinonim(h))\n",
    "    return hasil\n",
    "\n",
    "def getJawaban(pertanyaan):\n",
    "    pertanyaan = hapusStopWord(pertanyaan)\n",
    "    mirip = []\n",
    "    for idx, s in enumerate(soal):\n",
    "        s = hapusStopWord(s)\n",
    "        h = hitungCocok(s, pertanyaan)\n",
    "        if(h >= 0.5):\n",
    "            mirip.append([h, jawaban[idx]])\n",
    "        if(h == 1):\n",
    "            break\n",
    "    mirip.sort(key = lambda x : x[0], reverse=True)\n",
    "    if(len(mirip) > 0):\n",
    "        if(mirip[0][0] == 1):\n",
    "            return mirip[:1]\n",
    "    return mirip[:3]"
   ]
  },
  {
   "cell_type": "code",
   "execution_count": 214,
   "metadata": {},
   "outputs": [
    {
     "data": {
      "text/plain": [
       "1"
      ]
     },
     "execution_count": 214,
     "metadata": {},
     "output_type": "execute_result"
    }
   ],
   "source": [
    "hitungCocok('can you tell me what is exactly python programming language', 'what is programming language')"
   ]
  },
  {
   "cell_type": "code",
   "execution_count": 263,
   "metadata": {},
   "outputs": [
    {
     "data": {
      "text/plain": [
       "0.8333333333333334"
      ]
     },
     "execution_count": 263,
     "metadata": {},
     "output_type": "execute_result"
    }
   ],
   "source": [
    "hitungCocok('anjing', 'anjig wow')"
   ]
  },
  {
   "cell_type": "code",
   "execution_count": 261,
   "metadata": {},
   "outputs": [
    {
     "data": {
      "text/plain": [
       "[-1, 4]"
      ]
     },
     "execution_count": 261,
     "metadata": {},
     "output_type": "execute_result"
    }
   ],
   "source": [
    "bmITB('anjiaag wow', 'anjing wow')"
   ]
  },
  {
   "cell_type": "code",
   "execution_count": 262,
   "metadata": {},
   "outputs": [
    {
     "data": {
      "text/plain": [
       "[-1, 4]"
      ]
     },
     "execution_count": 262,
     "metadata": {},
     "output_type": "execute_result"
    }
   ],
   "source": [
    "kmpITB('anjiaag wow', 'anjing wow')"
   ]
  },
  {
   "cell_type": "code",
   "execution_count": 298,
   "metadata": {},
   "outputs": [
    {
     "data": {
      "text/plain": [
       "[[1,\n",
       "  'Python is an interpreted, interactive, object-oriented programming language. It incorporates modules, exceptions, dynamic typing, very high level dynamic data types, and classes. Python combines remarkable power with very clear syntax. It has interfaces to many system calls and libraries, as well as to various window systems, and is extensible in C or C++. It is also usable as an extension language for applications that need a programmable interface. Finally, Python is portable: it runs on many Unix variants, on the Mac, and on Windows 2000 and later.\\nTo find out more, start with The Python Tutorial. The Beginner’s Guide to Python links to other introductory tutorials and resources for learning Python.\\n']]"
      ]
     },
     "execution_count": 298,
     "metadata": {},
     "output_type": "execute_result"
    }
   ],
   "source": [
    "getJawaban('what is python')"
   ]
  },
  {
   "cell_type": "code",
   "execution_count": 297,
   "metadata": {},
   "outputs": [
    {
     "data": {
      "text/plain": [
       "['Saya merupakan lulusan salah satu program D3 di Indonesia. Apakah saya dapat melanjutkan program S1 ke ITB ',\n",
       " 'Apakah ITB menyediakan perkuliahan jarak jauh atau perkuliahan secara online ',\n",
       " 'Apakah ITB menyediakan kelas karyawan atau kelas kuliah malam ',\n",
       " 'Apakah ITB menyediakan program D3 ',\n",
       " 'What is Python',\n",
       " 'What is the Python Software Foundation',\n",
       " 'Are there copyright restrictions on the use of Python',\n",
       " 'Why was Python created in the first place',\n",
       " 'What is Python good for',\n",
       " 'How does the Python version numbering scheme work',\n",
       " 'How do I obtain a copy of the Python source',\n",
       " 'How do I get documentation on Python',\n",
       " 'I’ve never programmed before. Is there a Python tutorial',\n",
       " 'Is there a newsgroup or mailing list devoted to Python',\n",
       " 'How do I get a beta test version of Python',\n",
       " 'How do I submit bug reports and patches for Python',\n",
       " 'Are there any published articles about Python that I can reference',\n",
       " 'Are there any books on Python',\n",
       " 'Where in the world is www.python.org located',\n",
       " 'Why is it called Python',\n",
       " 'Do I have to like “Monty Python’s Flying Circus”',\n",
       " 'How stable is Python',\n",
       " 'How many people are using Python',\n",
       " 'Have any significant projects been done in Python',\n",
       " 'What new developments are expected for Python in the future',\n",
       " 'Is it reasonable to propose incompatible changes to Python',\n",
       " 'Is Python a good language for beginning programmers',\n",
       " 'Is there a source code level debugger with breakpoints, single-stepping, etc.',\n",
       " 'Is there a tool to help find bugs or perform static analysis',\n",
       " 'How can I create a stand-alone binary from a Python script',\n",
       " 'Are there coding standards or a style guide for Python programs',\n",
       " 'Why am I getting an UnboundLocalError when the variable has a value',\n",
       " 'What are the rules for local and global variables in Python',\n",
       " 'Why do lambdas defined in a loop with different values all return the same result',\n",
       " 'How do I share global variables across modules',\n",
       " 'What are the “best practices” for using import in a module',\n",
       " 'Why are default values shared between objects',\n",
       " 'How can I pass optional or keyword parameters from one function to another',\n",
       " 'What is the difference between arguments and parameters',\n",
       " 'Why did changing list ‘y’ also change list ‘x’',\n",
       " 'How do I write a function with output parameters (call by reference)',\n",
       " 'How do you make a higher order function in Python',\n",
       " 'How do I copy an object in Python',\n",
       " 'How can I find the methods or attributes of an object',\n",
       " 'How can my code discover the name of an object',\n",
       " 'What’s up with the comma operator’s precedence',\n",
       " 'Is there an equivalent of C’s “?:” ternary operator',\n",
       " 'Is it possible to write obfuscated one-liners in Python',\n",
       " 'What does the slash(/) in the parameter list of a function mean',\n",
       " 'How do I specify hexadecimal and octal integers',\n",
       " 'Why does -22 // 10 return -3',\n",
       " 'How do I convert a string to a number',\n",
       " 'How do I convert a number to a string',\n",
       " 'How do I modify a string in place',\n",
       " 'How do I use strings to call functions/methods',\n",
       " 'Is there an equivalent to Perl’s chomp() for removing trailing newlines from strings',\n",
       " 'Is there a scanf() or sscanf() equivalent',\n",
       " 'What is the most efficient way to concatenate many strings together',\n",
       " 'How do I convert between tuples and lists',\n",
       " 'What’s a negative index',\n",
       " 'How do I iterate over a sequence in reverse order',\n",
       " 'How do you remove duplicates from a list',\n",
       " 'How do you make an array in Python',\n",
       " 'How do I create a multidimensional list',\n",
       " 'How do I apply a method to a sequence of objects',\n",
       " 'Why does a_tuple[i] += [‘item’] raise an exception when the addition works',\n",
       " 'I want to do a complicated sort: can you do a Schwartzian Transform in Python',\n",
       " 'How can I sort one list by values from another list',\n",
       " 'What is a class',\n",
       " 'What is a method',\n",
       " 'What is self',\n",
       " 'How do I check if an object is an instance of a given class or of a subclass of it',\n",
       " 'What is delegation',\n",
       " 'How do I call a method defined in a base class from a derived class that overrides it',\n",
       " 'How can I organize my code to make it easier to change the base class',\n",
       " 'How do I create static class data and static class methods',\n",
       " 'How can I overload constructors (or methods) in Python',\n",
       " 'How do I get a list of all instances of a given class',\n",
       " 'Why does the result of id() appear to be not unique',\n",
       " 'Why does Python use indentation for grouping of statements',\n",
       " 'Why am I getting strange results with simple arithmetic operations',\n",
       " 'Why are floating-point calculations so inaccurate',\n",
       " 'Why are Python strings immutable',\n",
       " 'Why must ‘self’ be used explicitly in method definitions and calls',\n",
       " 'Why can’t I use an assignment in an expression',\n",
       " 'Why does Python use methods for some functionality (e.g. list.index()) but functions for other (e.g. len(list))',\n",
       " 'Why is join() a string method instead of a list or tuple method',\n",
       " 'How fast are exceptions',\n",
       " 'Why isn’t there a switch or case statement in Python',\n",
       " 'Can’t you emulate threads in the interpreter instead of relying on an OS-specific thread implementation',\n",
       " 'Why can’t lambda expressions contain statements',\n",
       " 'Can Python be compiled to machine code, C or some other language',\n",
       " 'How does Python manage memory',\n",
       " 'Why doesn’t CPython use a more traditional garbage collection scheme',\n",
       " 'Why isn’t all memory freed when CPython exits',\n",
       " 'Why are there separate tuple and list data types',\n",
       " 'How are lists implemented in CPython',\n",
       " 'How are dictionaries implemented in CPython',\n",
       " 'Why must dictionary keys be immutable',\n",
       " 'Why doesn’t list.sort() return the sorted list',\n",
       " 'How do you specify and enforce an interface spec in Python',\n",
       " 'Why is there no goto',\n",
       " 'Why can’t raw strings (r-strings) end with a backslash',\n",
       " 'Why doesn’t Python have a “with” statement for attribute assignments',\n",
       " 'Python uses dynamic types. It is impossible to know in advance which attribute will be referenced at runtime. Member attributes may be added or removed from objects on the fly. This makes it impossible to know, from a simple reading, what attribute is being referenced: a local one, a global one, or a member attribute',\n",
       " 'Why are colons required for the if/while/def/class statements',\n",
       " 'Why does Python allow commas at the end of lists and tuples']"
      ]
     },
     "execution_count": 297,
     "metadata": {},
     "output_type": "execute_result"
    }
   ],
   "source": [
    "soal"
   ]
  },
  {
   "cell_type": "code",
   "execution_count": 267,
   "metadata": {},
   "outputs": [
    {
     "data": {
      "text/plain": [
       "'Siapa pemain catur nomor satu dunia sekarang'"
      ]
     },
     "execution_count": 267,
     "metadata": {},
     "output_type": "execute_result"
    }
   ],
   "source": [
    "soal[12]"
   ]
  },
  {
   "cell_type": "code",
   "execution_count": 283,
   "metadata": {},
   "outputs": [],
   "source": [
    "s = hapusStopWord(soal[12].lower())"
   ]
  },
  {
   "cell_type": "code",
   "execution_count": 284,
   "metadata": {},
   "outputs": [
    {
     "data": {
      "text/plain": [
       "'pemain catur nomor dunia'"
      ]
     },
     "execution_count": 284,
     "metadata": {},
     "output_type": "execute_result"
    }
   ],
   "source": [
    "s"
   ]
  },
  {
   "cell_type": "code",
   "execution_count": 292,
   "metadata": {},
   "outputs": [
    {
     "name": "stdout",
     "output_type": "stream",
     "text": [
      "0\n",
      "Match  dunia ,  is\n",
      "HAS =  1\n",
      "2\n",
      "2\n"
     ]
    }
   ],
   "source": [
    "text = 'what is python'\n",
    "totalCocok = 0\n",
    "pattern = s\n",
    "for tS in text.split(' '):\n",
    "    tS = tS.strip()\n",
    "    maxCocok = 0\n",
    "    if(tS != ''):\n",
    "        for p in pattern.split(' '):\n",
    "            for s in getSinonim(p):\n",
    "                hasKMP = kmpITB(s, tS)\n",
    "                hasBM = bmITB(s, tS)\n",
    "                has = hasKMP\n",
    "#                 if(hasKMP[1] > hasBM[1]):\n",
    "#                     has = hasKMP\n",
    "                if(maxCocok < has[1]):\n",
    "                    print(\"Match \", s, \", \", tS)\n",
    "                    print('HAS = ', has[1])\n",
    "                    maxCocok = has[1]\n",
    "                if(has[0] > -1):\n",
    "                    break\n",
    "        if(maxCocok != 0):\n",
    "            totalCocok += 1\n",
    "        totalCocok += maxCocok\n",
    "        print(totalCocok)"
   ]
  },
  {
   "cell_type": "code",
   "execution_count": 291,
   "metadata": {},
   "outputs": [
    {
     "data": {
      "text/plain": [
       "[-1, 0]"
      ]
     },
     "execution_count": 291,
     "metadata": {},
     "output_type": "execute_result"
    }
   ],
   "source": [
    "kmpITB('tanah', 'what')"
   ]
  },
  {
   "cell_type": "code",
   "execution_count": null,
   "metadata": {},
   "outputs": [],
   "source": []
  }
 ],
 "metadata": {
  "kernelspec": {
   "display_name": "Python 3",
   "language": "python",
   "name": "python3"
  },
  "language_info": {
   "codemirror_mode": {
    "name": "ipython",
    "version": 3
   },
   "file_extension": ".py",
   "mimetype": "text/x-python",
   "name": "python",
   "nbconvert_exporter": "python",
   "pygments_lexer": "ipython3",
   "version": "3.6.8"
  }
 },
 "nbformat": 4,
 "nbformat_minor": 2
}
